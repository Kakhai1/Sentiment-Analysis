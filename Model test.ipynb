{
 "cells": [
  {
   "cell_type": "code",
   "execution_count": 1,
   "metadata": {},
   "outputs": [],
   "source": [
    "from transformers import AutoTokenizer, AutoModelForSequenceClassification\n",
    "import torch\n",
    "import requests\n",
    "from bs4 import BeautifulSoup\n",
    "import re\n",
    "import pandas as pd"
   ]
  },
  {
   "cell_type": "code",
   "execution_count": 2,
   "metadata": {},
   "outputs": [
    {
     "name": "stderr",
     "output_type": "stream",
     "text": [
      "'HTTPSConnectionPool(host='huggingface.co', port=443): Max retries exceeded with url: /nlptown/bert-base-multilingual-uncased-sentiment/resolve/main/tokenizer_config.json (Caused by ConnectTimeoutError(<urllib3.connection.HTTPSConnection object at 0x000001CA2A1E2AD0>, 'Connection to huggingface.co timed out. (connect timeout=10)'))' thrown while requesting HEAD https://huggingface.co/nlptown/bert-base-multilingual-uncased-sentiment/resolve/main/tokenizer_config.json\n"
     ]
    }
   ],
   "source": [
    "tokenizer = AutoTokenizer.from_pretrained('nlptown/bert-base-multilingual-uncased-sentiment')\n",
    "\n",
    "model = AutoModelForSequenceClassification.from_pretrained('nlptown/bert-base-multilingual-uncased-sentiment')"
   ]
  },
  {
   "cell_type": "markdown",
   "metadata": {},
   "source": [
    "### Proof of Concept"
   ]
  },
  {
   "cell_type": "code",
   "execution_count": 3,
   "metadata": {},
   "outputs": [],
   "source": [
    "output_mapping = {\n",
    "    1: \"Terrible\",\n",
    "    2: \"Bad\",\n",
    "    3: \"Neutral\",\n",
    "    4: \"Good\",\n",
    "    5: \"Amazing\"\n",
    "}"
   ]
  },
  {
   "cell_type": "code",
   "execution_count": 4,
   "metadata": {},
   "outputs": [],
   "source": [
    "data = {\n",
    "    \"Review\": [\n",
    "        \"This food is absolutely amazing! I love it.\",\n",
    "        \"The food was good, but the service was terrible.\",\n",
    "        \"I had a neutral experience with the food.\",\n",
    "        \"The taste of the food was bad, but the ambiance was great.\",\n",
    "        \"This place serves the best food in town. I'm a fan!\",\n",
    "    ],}\n",
    "df = pd.DataFrame(data)"
   ]
  },
  {
   "cell_type": "code",
   "execution_count": 5,
   "metadata": {},
   "outputs": [
    {
     "data": {
      "text/html": [
       "<div>\n",
       "<style scoped>\n",
       "    .dataframe tbody tr th:only-of-type {\n",
       "        vertical-align: middle;\n",
       "    }\n",
       "\n",
       "    .dataframe tbody tr th {\n",
       "        vertical-align: top;\n",
       "    }\n",
       "\n",
       "    .dataframe thead th {\n",
       "        text-align: right;\n",
       "    }\n",
       "</style>\n",
       "<table border=\"1\" class=\"dataframe\">\n",
       "  <thead>\n",
       "    <tr style=\"text-align: right;\">\n",
       "      <th></th>\n",
       "      <th>Review</th>\n",
       "    </tr>\n",
       "  </thead>\n",
       "  <tbody>\n",
       "    <tr>\n",
       "      <th>0</th>\n",
       "      <td>This food is absolutely amazing! I love it.</td>\n",
       "    </tr>\n",
       "    <tr>\n",
       "      <th>1</th>\n",
       "      <td>The food was good, but the service was terrible.</td>\n",
       "    </tr>\n",
       "    <tr>\n",
       "      <th>2</th>\n",
       "      <td>I had a neutral experience with the food.</td>\n",
       "    </tr>\n",
       "    <tr>\n",
       "      <th>3</th>\n",
       "      <td>The taste of the food was bad, but the ambianc...</td>\n",
       "    </tr>\n",
       "    <tr>\n",
       "      <th>4</th>\n",
       "      <td>This place serves the best food in town. I'm a...</td>\n",
       "    </tr>\n",
       "  </tbody>\n",
       "</table>\n",
       "</div>"
      ],
      "text/plain": [
       "                                              Review\n",
       "0        This food is absolutely amazing! I love it.\n",
       "1   The food was good, but the service was terrible.\n",
       "2          I had a neutral experience with the food.\n",
       "3  The taste of the food was bad, but the ambianc...\n",
       "4  This place serves the best food in town. I'm a..."
      ]
     },
     "execution_count": 5,
     "metadata": {},
     "output_type": "execute_result"
    }
   ],
   "source": [
    "df"
   ]
  },
  {
   "cell_type": "code",
   "execution_count": 6,
   "metadata": {},
   "outputs": [],
   "source": [
    "text = \"This is the worst thing I have ever experienced\""
   ]
  },
  {
   "cell_type": "code",
   "execution_count": 7,
   "metadata": {},
   "outputs": [],
   "source": [
    "tokens = tokenizer.encode(text, return_tensors='pt')"
   ]
  },
  {
   "cell_type": "code",
   "execution_count": 8,
   "metadata": {},
   "outputs": [],
   "source": [
    "result = model(tokens)"
   ]
  },
  {
   "cell_type": "code",
   "execution_count": 9,
   "metadata": {},
   "outputs": [
    {
     "data": {
      "text/plain": [
       "tensor([[ 4.8149,  1.8245, -0.6126, -3.0968, -2.1913]],\n",
       "       grad_fn=<AddmmBackward0>)"
      ]
     },
     "execution_count": 9,
     "metadata": {},
     "output_type": "execute_result"
    }
   ],
   "source": [
    "result.logits"
   ]
  },
  {
   "cell_type": "code",
   "execution_count": 10,
   "metadata": {},
   "outputs": [
    {
     "name": "stdout",
     "output_type": "stream",
     "text": [
      "Predicted Label: Terrible\n"
     ]
    }
   ],
   "source": [
    "model_output = int(torch.argmax(result.logits)) + 1\n",
    "predicted_label = output_mapping[model_output]\n",
    "print(f\"Predicted Label: {predicted_label}\")\n"
   ]
  },
  {
   "cell_type": "code",
   "execution_count": 11,
   "metadata": {},
   "outputs": [],
   "source": [
    "def predict_sentiment(review):\n",
    "    # Tokenize the text\n",
    "    encoded_text = tokenizer(review, padding=True, truncation=True, return_tensors=\"pt\")\n",
    "\n",
    "    # Get the model's output\n",
    "    result = model(**encoded_text)\n",
    "    model_output = int(torch.argmax(result.logits)) + 1\n",
    "    predicted_label = output_mapping[model_output]\n",
    "    return model_output, predicted_label"
   ]
  },
  {
   "cell_type": "code",
   "execution_count": 12,
   "metadata": {},
   "outputs": [],
   "source": [
    "df['Output'], df['Sentiment'] = zip(*df['Review'].apply(predict_sentiment))\n"
   ]
  },
  {
   "cell_type": "code",
   "execution_count": 13,
   "metadata": {},
   "outputs": [
    {
     "data": {
      "text/html": [
       "<div>\n",
       "<style scoped>\n",
       "    .dataframe tbody tr th:only-of-type {\n",
       "        vertical-align: middle;\n",
       "    }\n",
       "\n",
       "    .dataframe tbody tr th {\n",
       "        vertical-align: top;\n",
       "    }\n",
       "\n",
       "    .dataframe thead th {\n",
       "        text-align: right;\n",
       "    }\n",
       "</style>\n",
       "<table border=\"1\" class=\"dataframe\">\n",
       "  <thead>\n",
       "    <tr style=\"text-align: right;\">\n",
       "      <th></th>\n",
       "      <th>Review</th>\n",
       "      <th>Output</th>\n",
       "      <th>Sentiment</th>\n",
       "    </tr>\n",
       "  </thead>\n",
       "  <tbody>\n",
       "    <tr>\n",
       "      <th>0</th>\n",
       "      <td>This food is absolutely amazing! I love it.</td>\n",
       "      <td>5</td>\n",
       "      <td>Amazing</td>\n",
       "    </tr>\n",
       "    <tr>\n",
       "      <th>1</th>\n",
       "      <td>The food was good, but the service was terrible.</td>\n",
       "      <td>2</td>\n",
       "      <td>Bad</td>\n",
       "    </tr>\n",
       "    <tr>\n",
       "      <th>2</th>\n",
       "      <td>I had a neutral experience with the food.</td>\n",
       "      <td>3</td>\n",
       "      <td>Neutral</td>\n",
       "    </tr>\n",
       "    <tr>\n",
       "      <th>3</th>\n",
       "      <td>The taste of the food was bad, but the ambianc...</td>\n",
       "      <td>3</td>\n",
       "      <td>Neutral</td>\n",
       "    </tr>\n",
       "    <tr>\n",
       "      <th>4</th>\n",
       "      <td>This place serves the best food in town. I'm a...</td>\n",
       "      <td>5</td>\n",
       "      <td>Amazing</td>\n",
       "    </tr>\n",
       "  </tbody>\n",
       "</table>\n",
       "</div>"
      ],
      "text/plain": [
       "                                              Review  Output Sentiment\n",
       "0        This food is absolutely amazing! I love it.       5   Amazing\n",
       "1   The food was good, but the service was terrible.       2       Bad\n",
       "2          I had a neutral experience with the food.       3   Neutral\n",
       "3  The taste of the food was bad, but the ambianc...       3   Neutral\n",
       "4  This place serves the best food in town. I'm a...       5   Amazing"
      ]
     },
     "execution_count": 13,
     "metadata": {},
     "output_type": "execute_result"
    }
   ],
   "source": [
    "df"
   ]
  },
  {
   "cell_type": "markdown",
   "metadata": {},
   "source": [
    "### Tested Performance"
   ]
  },
  {
   "cell_type": "code",
   "execution_count": 52,
   "metadata": {},
   "outputs": [
    {
     "data": {
      "text/plain": [
       "'lucy-liu-kitchen-and-bar-melbourne'"
      ]
     },
     "execution_count": 52,
     "metadata": {},
     "output_type": "execute_result"
    }
   ],
   "source": [
    "restaurant = \"Lucy Liu Kitchen and Bar Melbourne\"\n",
    "processed_text = restaurant.replace(' ', '-').lower()\n",
    "base_url = f'https://www.yelp.com/biz/{processed_text}'\n",
    "\n",
    "processed_text"
   ]
  },
  {
   "cell_type": "code",
   "execution_count": 59,
   "metadata": {},
   "outputs": [],
   "source": [
    "all_reviews = []\n",
    "reviews_found = False\n",
    "\n",
    "while True:\n",
    "    r = requests.get(base_url)\n",
    "    soup = BeautifulSoup(r.text, 'html.parser')\n",
    "    regex = re.compile('.*comment.*')\n",
    "    results = soup.find_all('p', class_=regex)\n",
    "    if results:  # Reviews found\n",
    "            reviews_found = True\n",
    "            reviews = [result.text for result in results]\n",
    "        \n",
    "    # Find the \"Next\" button URL\n",
    "    next_button = soup.find('a', class_='next')\n",
    "    if not next_button:\n",
    "        break\n",
    "\n",
    "    next_button = soup.find('a', class_='next-link')  # Locate the 'Next' button by class\n",
    "    next_url = next_button['href']  # Extract the 'href' attribute (URL)\n",
    "\n",
    "    # Construct the full URL for the next page if needed\n",
    "    full_next_url = f'https://www.yelp.com{next_url}'"
   ]
  },
  {
   "cell_type": "code",
   "execution_count": 60,
   "metadata": {},
   "outputs": [],
   "source": [
    "df = pd.DataFrame({'Review': reviews})\n",
    "\n",
    "def predict_sentiment(review):\n",
    "    # Tokenize the text\n",
    "    encoded_text = tokenizer(review, padding=True, truncation=True, return_tensors=\"pt\")\n",
    "\n",
    "    # Get the model's output\n",
    "    result = model(**encoded_text)\n",
    "    model_output = int(torch.argmax(result.logits)) + 1\n",
    "    return model_output\n",
    "\n",
    "if not reviews_found:\n",
    "    df['Output'] = \"Error: 1 No Reviews Found.\"\n",
    "else:\n",
    "    df['Output'] = df['Review'].apply(predict_sentiment)"
   ]
  },
  {
   "cell_type": "code",
   "execution_count": 62,
   "metadata": {},
   "outputs": [
    {
     "data": {
      "text/html": [
       "<div>\n",
       "<style scoped>\n",
       "    .dataframe tbody tr th:only-of-type {\n",
       "        vertical-align: middle;\n",
       "    }\n",
       "\n",
       "    .dataframe tbody tr th {\n",
       "        vertical-align: top;\n",
       "    }\n",
       "\n",
       "    .dataframe thead th {\n",
       "        text-align: right;\n",
       "    }\n",
       "</style>\n",
       "<table border=\"1\" class=\"dataframe\">\n",
       "  <thead>\n",
       "    <tr style=\"text-align: right;\">\n",
       "      <th></th>\n",
       "      <th>Review</th>\n",
       "      <th>Output</th>\n",
       "      <th>Sentiment</th>\n",
       "    </tr>\n",
       "  </thead>\n",
       "  <tbody>\n",
       "    <tr>\n",
       "      <th>0</th>\n",
       "      <td>My colleague was working here for her second j...</td>\n",
       "      <td>5</td>\n",
       "      <td>Amazing</td>\n",
       "    </tr>\n",
       "    <tr>\n",
       "      <th>1</th>\n",
       "      <td>Very good Customer Service but food gave me ga...</td>\n",
       "      <td>3</td>\n",
       "      <td>Neutral</td>\n",
       "    </tr>\n",
       "    <tr>\n",
       "      <th>2</th>\n",
       "      <td>Very good food but rude employees and trashy i...</td>\n",
       "      <td>4</td>\n",
       "      <td>Good</td>\n",
       "    </tr>\n",
       "    <tr>\n",
       "      <th>3</th>\n",
       "      <td>The best culinary experience I've had for many...</td>\n",
       "      <td>5</td>\n",
       "      <td>Amazing</td>\n",
       "    </tr>\n",
       "    <tr>\n",
       "      <th>4</th>\n",
       "      <td>3 out of 5 dishes were excellent.  Fried rice ...</td>\n",
       "      <td>3</td>\n",
       "      <td>Neutral</td>\n",
       "    </tr>\n",
       "    <tr>\n",
       "      <th>5</th>\n",
       "      <td>I've tried so many Asian fusion restaurants ar...</td>\n",
       "      <td>5</td>\n",
       "      <td>Amazing</td>\n",
       "    </tr>\n",
       "    <tr>\n",
       "      <th>6</th>\n",
       "      <td>Solid asian fusion place but some of the dishe...</td>\n",
       "      <td>3</td>\n",
       "      <td>Neutral</td>\n",
       "    </tr>\n",
       "    <tr>\n",
       "      <th>7</th>\n",
       "      <td>We arrived at the restaurant without a reserva...</td>\n",
       "      <td>5</td>\n",
       "      <td>Amazing</td>\n",
       "    </tr>\n",
       "    <tr>\n",
       "      <th>8</th>\n",
       "      <td>I really enjoyed both my meals at Lucy Liu (ca...</td>\n",
       "      <td>4</td>\n",
       "      <td>Good</td>\n",
       "    </tr>\n",
       "    <tr>\n",
       "      <th>9</th>\n",
       "      <td>Everything was absolutely great. Highly recomm...</td>\n",
       "      <td>5</td>\n",
       "      <td>Amazing</td>\n",
       "    </tr>\n",
       "  </tbody>\n",
       "</table>\n",
       "</div>"
      ],
      "text/plain": [
       "                                              Review  Output Sentiment\n",
       "0  My colleague was working here for her second j...       5   Amazing\n",
       "1  Very good Customer Service but food gave me ga...       3   Neutral\n",
       "2  Very good food but rude employees and trashy i...       4      Good\n",
       "3  The best culinary experience I've had for many...       5   Amazing\n",
       "4  3 out of 5 dishes were excellent.  Fried rice ...       3   Neutral\n",
       "5  I've tried so many Asian fusion restaurants ar...       5   Amazing\n",
       "6  Solid asian fusion place but some of the dishe...       3   Neutral\n",
       "7  We arrived at the restaurant without a reserva...       5   Amazing\n",
       "8  I really enjoyed both my meals at Lucy Liu (ca...       4      Good\n",
       "9  Everything was absolutely great. Highly recomm...       5   Amazing"
      ]
     },
     "execution_count": 62,
     "metadata": {},
     "output_type": "execute_result"
    }
   ],
   "source": [
    "df"
   ]
  }
 ],
 "metadata": {
  "kernelspec": {
   "display_name": "dev",
   "language": "python",
   "name": "python3"
  },
  "language_info": {
   "codemirror_mode": {
    "name": "ipython",
    "version": 3
   },
   "file_extension": ".py",
   "mimetype": "text/x-python",
   "name": "python",
   "nbconvert_exporter": "python",
   "pygments_lexer": "ipython3",
   "version": "3.10.11"
  }
 },
 "nbformat": 4,
 "nbformat_minor": 2
}
